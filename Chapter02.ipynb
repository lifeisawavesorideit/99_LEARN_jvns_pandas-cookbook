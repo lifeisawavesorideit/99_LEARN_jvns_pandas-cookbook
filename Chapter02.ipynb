{
  "nbformat": 4,
  "nbformat_minor": 0,
  "metadata": {
    "colab": {
      "provenance": [],
      "authorship_tag": "ABX9TyMvGiLUFb+zyUVZdblXYDJd",
      "include_colab_link": true
    },
    "kernelspec": {
      "name": "python3",
      "display_name": "Python 3"
    },
    "language_info": {
      "name": "python"
    }
  },
  "cells": [
    {
      "cell_type": "markdown",
      "metadata": {
        "id": "view-in-github",
        "colab_type": "text"
      },
      "source": [
        "<a href=\"https://colab.research.google.com/github/lifeisawavesorideit/99_LEARN_jvns_pandas-cookbook/blob/master/Chapter02.ipynb\" target=\"_parent\"><img src=\"https://colab.research.google.com/assets/colab-badge.svg\" alt=\"Open In Colab\"/></a>"
      ]
    },
    {
      "cell_type": "code",
      "execution_count": 2,
      "metadata": {
        "id": "aWS2Q77CG0AK"
      },
      "outputs": [],
      "source": [
        "%matplotlib inline\n",
        "\n",
        "import pandas as pd\n",
        "import matplotlib.pyplot as plt\n",
        "\n",
        "# Make the graphs a bit prettier, and bigger\n",
        "plt.style.use('ggplot')\n",
        "\n",
        "# This is necessary to show lots of columns in pandas 0.12. \n",
        "# Not necessary in pandas 0.13.\n",
        "pd.set_option('display.width', 5000) \n",
        "pd.set_option('display.max_columns', 60)\n",
        "\n",
        "plt.rcParams['figure.figsize'] = (15, 5)"
      ]
    },
    {
      "cell_type": "code",
      "source": [],
      "metadata": {
        "id": "sl9px8BnHCtV"
      },
      "execution_count": null,
      "outputs": []
    }
  ]
}