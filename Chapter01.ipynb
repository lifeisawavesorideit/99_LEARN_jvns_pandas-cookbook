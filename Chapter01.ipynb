{
  "nbformat": 4,
  "nbformat_minor": 0,
  "metadata": {
    "colab": {
      "provenance": [],
      "authorship_tag": "ABX9TyNwFcEI9Q/7oiHRbQztDJQo",
      "include_colab_link": true
    },
    "kernelspec": {
      "name": "python3",
      "display_name": "Python 3"
    },
    "language_info": {
      "name": "python"
    }
  },
  "cells": [
    {
      "cell_type": "markdown",
      "metadata": {
        "id": "view-in-github",
        "colab_type": "text"
      },
      "source": [
        "<a href=\"https://colab.research.google.com/github/lifeisawavesorideit/99_LEARN_jvns_pandas-cookbook/blob/master/Chapter01.ipynb\" target=\"_parent\"><img src=\"https://colab.research.google.com/assets/colab-badge.svg\" alt=\"Open In Colab\"/></a>"
      ]
    },
    {
      "cell_type": "code",
      "source": [
        "# Render plots inline\n",
        "%matplotlib inline\n",
        "\n",
        "import pandas as pd\n",
        "import matplotlib.pyplot as plt\n",
        "\n",
        "# Make graphs a bitt prettier and bigger\n",
        "plt.style.use('ggplot')\n",
        "plt.rcParams['figure.figsize'] = (15, 5)"
      ],
      "metadata": {
        "id": "WGQtaQzHB8Q0"
      },
      "execution_count": null,
      "outputs": []
    },
    {
      "cell_type": "markdown",
      "source": [
        "# 1.1 Reading data from a csv file"
      ],
      "metadata": {
        "id": "xodQ9JkPCcrD"
      }
    },
    {
      "cell_type": "code",
      "source": [
        "CSV_PATH = 'https://raw.githubusercontent.com/lifeisawavesorideit/99_LEARN_jvns_pandas-cookbook/master/data/bikes.csv'"
      ],
      "metadata": {
        "id": "KxewS3g1CqYT"
      },
      "execution_count": 4,
      "outputs": []
    },
    {
      "cell_type": "code",
      "source": [
        "broken_df = pd.read_csv(CSV_PATH, encoding='ISO-8859-1')\n",
        "broken_df"
      ],
      "metadata": {
        "id": "3LAD19xGCJiP",
        "outputId": "783b952f-8e9d-4716-c4d4-b06a52951d29",
        "colab": {
          "base_uri": "https://localhost:8080/",
          "height": 424
        }
      },
      "execution_count": 9,
      "outputs": [
        {
          "output_type": "execute_result",
          "data": {
            "text/plain": [
              "    Date;Berri 1;Brébeuf (données non disponibles);Côte-Sainte-Catherine;Maisonneuve 1;Maisonneuve 2;du Parc;Pierre-Dupuy;Rachel1;St-Urbain (données non disponibles)\n",
              "0                     01/01/2012;35;;0;38;51;26;10;16;                                                                                                               \n",
              "1                     02/01/2012;83;;1;68;153;53;6;43;                                                                                                               \n",
              "2                   03/01/2012;135;;2;104;248;89;3;58;                                                                                                               \n",
              "3                  04/01/2012;144;;1;116;318;111;8;61;                                                                                                               \n",
              "4                  05/01/2012;197;;2;124;330;97;13;95;                                                                                                               \n",
              "..                                                 ...                                                                                                               \n",
              "305      01/11/2012;2405;;1208;1701;3082;2076;165;2461                                                                                                               \n",
              "306        02/11/2012;1582;;737;1109;2277;1392;97;1888                                                                                                               \n",
              "307          03/11/2012;844;;380;612;1137;713;105;1302                                                                                                               \n",
              "308          04/11/2012;966;;446;710;1277;692;197;1374                                                                                                               \n",
              "309      05/11/2012;2247;;1170;1705;3221;2143;179;2430                                                                                                               \n",
              "\n",
              "[310 rows x 1 columns]"
            ],
            "text/html": [
              "\n",
              "  <div id=\"df-6e7a1493-d759-4700-bc4c-3ff5f1bbe307\">\n",
              "    <div class=\"colab-df-container\">\n",
              "      <div>\n",
              "<style scoped>\n",
              "    .dataframe tbody tr th:only-of-type {\n",
              "        vertical-align: middle;\n",
              "    }\n",
              "\n",
              "    .dataframe tbody tr th {\n",
              "        vertical-align: top;\n",
              "    }\n",
              "\n",
              "    .dataframe thead th {\n",
              "        text-align: right;\n",
              "    }\n",
              "</style>\n",
              "<table border=\"1\" class=\"dataframe\">\n",
              "  <thead>\n",
              "    <tr style=\"text-align: right;\">\n",
              "      <th></th>\n",
              "      <th>Date;Berri 1;Brébeuf (données non disponibles);Côte-Sainte-Catherine;Maisonneuve 1;Maisonneuve 2;du Parc;Pierre-Dupuy;Rachel1;St-Urbain (données non disponibles)</th>\n",
              "    </tr>\n",
              "  </thead>\n",
              "  <tbody>\n",
              "    <tr>\n",
              "      <th>0</th>\n",
              "      <td>01/01/2012;35;;0;38;51;26;10;16;</td>\n",
              "    </tr>\n",
              "    <tr>\n",
              "      <th>1</th>\n",
              "      <td>02/01/2012;83;;1;68;153;53;6;43;</td>\n",
              "    </tr>\n",
              "    <tr>\n",
              "      <th>2</th>\n",
              "      <td>03/01/2012;135;;2;104;248;89;3;58;</td>\n",
              "    </tr>\n",
              "    <tr>\n",
              "      <th>3</th>\n",
              "      <td>04/01/2012;144;;1;116;318;111;8;61;</td>\n",
              "    </tr>\n",
              "    <tr>\n",
              "      <th>4</th>\n",
              "      <td>05/01/2012;197;;2;124;330;97;13;95;</td>\n",
              "    </tr>\n",
              "    <tr>\n",
              "      <th>...</th>\n",
              "      <td>...</td>\n",
              "    </tr>\n",
              "    <tr>\n",
              "      <th>305</th>\n",
              "      <td>01/11/2012;2405;;1208;1701;3082;2076;165;2461</td>\n",
              "    </tr>\n",
              "    <tr>\n",
              "      <th>306</th>\n",
              "      <td>02/11/2012;1582;;737;1109;2277;1392;97;1888</td>\n",
              "    </tr>\n",
              "    <tr>\n",
              "      <th>307</th>\n",
              "      <td>03/11/2012;844;;380;612;1137;713;105;1302</td>\n",
              "    </tr>\n",
              "    <tr>\n",
              "      <th>308</th>\n",
              "      <td>04/11/2012;966;;446;710;1277;692;197;1374</td>\n",
              "    </tr>\n",
              "    <tr>\n",
              "      <th>309</th>\n",
              "      <td>05/11/2012;2247;;1170;1705;3221;2143;179;2430</td>\n",
              "    </tr>\n",
              "  </tbody>\n",
              "</table>\n",
              "<p>310 rows × 1 columns</p>\n",
              "</div>\n",
              "      <button class=\"colab-df-convert\" onclick=\"convertToInteractive('df-6e7a1493-d759-4700-bc4c-3ff5f1bbe307')\"\n",
              "              title=\"Convert this dataframe to an interactive table.\"\n",
              "              style=\"display:none;\">\n",
              "        \n",
              "  <svg xmlns=\"http://www.w3.org/2000/svg\" height=\"24px\"viewBox=\"0 0 24 24\"\n",
              "       width=\"24px\">\n",
              "    <path d=\"M0 0h24v24H0V0z\" fill=\"none\"/>\n",
              "    <path d=\"M18.56 5.44l.94 2.06.94-2.06 2.06-.94-2.06-.94-.94-2.06-.94 2.06-2.06.94zm-11 1L8.5 8.5l.94-2.06 2.06-.94-2.06-.94L8.5 2.5l-.94 2.06-2.06.94zm10 10l.94 2.06.94-2.06 2.06-.94-2.06-.94-.94-2.06-.94 2.06-2.06.94z\"/><path d=\"M17.41 7.96l-1.37-1.37c-.4-.4-.92-.59-1.43-.59-.52 0-1.04.2-1.43.59L10.3 9.45l-7.72 7.72c-.78.78-.78 2.05 0 2.83L4 21.41c.39.39.9.59 1.41.59.51 0 1.02-.2 1.41-.59l7.78-7.78 2.81-2.81c.8-.78.8-2.07 0-2.86zM5.41 20L4 18.59l7.72-7.72 1.47 1.35L5.41 20z\"/>\n",
              "  </svg>\n",
              "      </button>\n",
              "      \n",
              "  <style>\n",
              "    .colab-df-container {\n",
              "      display:flex;\n",
              "      flex-wrap:wrap;\n",
              "      gap: 12px;\n",
              "    }\n",
              "\n",
              "    .colab-df-convert {\n",
              "      background-color: #E8F0FE;\n",
              "      border: none;\n",
              "      border-radius: 50%;\n",
              "      cursor: pointer;\n",
              "      display: none;\n",
              "      fill: #1967D2;\n",
              "      height: 32px;\n",
              "      padding: 0 0 0 0;\n",
              "      width: 32px;\n",
              "    }\n",
              "\n",
              "    .colab-df-convert:hover {\n",
              "      background-color: #E2EBFA;\n",
              "      box-shadow: 0px 1px 2px rgba(60, 64, 67, 0.3), 0px 1px 3px 1px rgba(60, 64, 67, 0.15);\n",
              "      fill: #174EA6;\n",
              "    }\n",
              "\n",
              "    [theme=dark] .colab-df-convert {\n",
              "      background-color: #3B4455;\n",
              "      fill: #D2E3FC;\n",
              "    }\n",
              "\n",
              "    [theme=dark] .colab-df-convert:hover {\n",
              "      background-color: #434B5C;\n",
              "      box-shadow: 0px 1px 3px 1px rgba(0, 0, 0, 0.15);\n",
              "      filter: drop-shadow(0px 1px 2px rgba(0, 0, 0, 0.3));\n",
              "      fill: #FFFFFF;\n",
              "    }\n",
              "  </style>\n",
              "\n",
              "      <script>\n",
              "        const buttonEl =\n",
              "          document.querySelector('#df-6e7a1493-d759-4700-bc4c-3ff5f1bbe307 button.colab-df-convert');\n",
              "        buttonEl.style.display =\n",
              "          google.colab.kernel.accessAllowed ? 'block' : 'none';\n",
              "\n",
              "        async function convertToInteractive(key) {\n",
              "          const element = document.querySelector('#df-6e7a1493-d759-4700-bc4c-3ff5f1bbe307');\n",
              "          const dataTable =\n",
              "            await google.colab.kernel.invokeFunction('convertToInteractive',\n",
              "                                                     [key], {});\n",
              "          if (!dataTable) return;\n",
              "\n",
              "          const docLinkHtml = 'Like what you see? Visit the ' +\n",
              "            '<a target=\"_blank\" href=https://colab.research.google.com/notebooks/data_table.ipynb>data table notebook</a>'\n",
              "            + ' to learn more about interactive tables.';\n",
              "          element.innerHTML = '';\n",
              "          dataTable['output_type'] = 'display_data';\n",
              "          await google.colab.output.renderOutput(dataTable, element);\n",
              "          const docLink = document.createElement('div');\n",
              "          docLink.innerHTML = docLinkHtml;\n",
              "          element.appendChild(docLink);\n",
              "        }\n",
              "      </script>\n",
              "    </div>\n",
              "  </div>\n",
              "  "
            ]
          },
          "metadata": {},
          "execution_count": 9
        }
      ]
    },
    {
      "cell_type": "code",
      "source": [
        "fixed_df = pd.read_csv(CSV_PATH, sep=';', encoding='latin1', parse_dates=['Date'], dayfirst=True, index_col='Date')\n",
        "fixed_df"
      ],
      "metadata": {
        "id": "VQXX9EanChBJ",
        "outputId": "a954f904-4a98-4c01-a5b1-8c59e6d14460",
        "colab": {
          "base_uri": "https://localhost:8080/",
          "height": 455
        }
      },
      "execution_count": 11,
      "outputs": [
        {
          "output_type": "execute_result",
          "data": {
            "text/plain": [
              "            Berri 1  Brébeuf (données non disponibles)  Côte-Sainte-Catherine  \\\n",
              "Date                                                                            \n",
              "2012-01-01       35                                NaN                      0   \n",
              "2012-01-02       83                                NaN                      1   \n",
              "2012-01-03      135                                NaN                      2   \n",
              "2012-01-04      144                                NaN                      1   \n",
              "2012-01-05      197                                NaN                      2   \n",
              "...             ...                                ...                    ...   \n",
              "2012-11-01     2405                                NaN                   1208   \n",
              "2012-11-02     1582                                NaN                    737   \n",
              "2012-11-03      844                                NaN                    380   \n",
              "2012-11-04      966                                NaN                    446   \n",
              "2012-11-05     2247                                NaN                   1170   \n",
              "\n",
              "            Maisonneuve 1  Maisonneuve 2  du Parc  Pierre-Dupuy  Rachel1  \\\n",
              "Date                                                                       \n",
              "2012-01-01             38             51       26            10       16   \n",
              "2012-01-02             68            153       53             6       43   \n",
              "2012-01-03            104            248       89             3       58   \n",
              "2012-01-04            116            318      111             8       61   \n",
              "2012-01-05            124            330       97            13       95   \n",
              "...                   ...            ...      ...           ...      ...   \n",
              "2012-11-01           1701           3082     2076           165     2461   \n",
              "2012-11-02           1109           2277     1392            97     1888   \n",
              "2012-11-03            612           1137      713           105     1302   \n",
              "2012-11-04            710           1277      692           197     1374   \n",
              "2012-11-05           1705           3221     2143           179     2430   \n",
              "\n",
              "            St-Urbain (données non disponibles)  \n",
              "Date                                             \n",
              "2012-01-01                                  NaN  \n",
              "2012-01-02                                  NaN  \n",
              "2012-01-03                                  NaN  \n",
              "2012-01-04                                  NaN  \n",
              "2012-01-05                                  NaN  \n",
              "...                                         ...  \n",
              "2012-11-01                                  NaN  \n",
              "2012-11-02                                  NaN  \n",
              "2012-11-03                                  NaN  \n",
              "2012-11-04                                  NaN  \n",
              "2012-11-05                                  NaN  \n",
              "\n",
              "[310 rows x 9 columns]"
            ],
            "text/html": [
              "\n",
              "  <div id=\"df-3005dbe7-4527-48cc-baec-1bb4d8877fd4\">\n",
              "    <div class=\"colab-df-container\">\n",
              "      <div>\n",
              "<style scoped>\n",
              "    .dataframe tbody tr th:only-of-type {\n",
              "        vertical-align: middle;\n",
              "    }\n",
              "\n",
              "    .dataframe tbody tr th {\n",
              "        vertical-align: top;\n",
              "    }\n",
              "\n",
              "    .dataframe thead th {\n",
              "        text-align: right;\n",
              "    }\n",
              "</style>\n",
              "<table border=\"1\" class=\"dataframe\">\n",
              "  <thead>\n",
              "    <tr style=\"text-align: right;\">\n",
              "      <th></th>\n",
              "      <th>Berri 1</th>\n",
              "      <th>Brébeuf (données non disponibles)</th>\n",
              "      <th>Côte-Sainte-Catherine</th>\n",
              "      <th>Maisonneuve 1</th>\n",
              "      <th>Maisonneuve 2</th>\n",
              "      <th>du Parc</th>\n",
              "      <th>Pierre-Dupuy</th>\n",
              "      <th>Rachel1</th>\n",
              "      <th>St-Urbain (données non disponibles)</th>\n",
              "    </tr>\n",
              "    <tr>\n",
              "      <th>Date</th>\n",
              "      <th></th>\n",
              "      <th></th>\n",
              "      <th></th>\n",
              "      <th></th>\n",
              "      <th></th>\n",
              "      <th></th>\n",
              "      <th></th>\n",
              "      <th></th>\n",
              "      <th></th>\n",
              "    </tr>\n",
              "  </thead>\n",
              "  <tbody>\n",
              "    <tr>\n",
              "      <th>2012-01-01</th>\n",
              "      <td>35</td>\n",
              "      <td>NaN</td>\n",
              "      <td>0</td>\n",
              "      <td>38</td>\n",
              "      <td>51</td>\n",
              "      <td>26</td>\n",
              "      <td>10</td>\n",
              "      <td>16</td>\n",
              "      <td>NaN</td>\n",
              "    </tr>\n",
              "    <tr>\n",
              "      <th>2012-01-02</th>\n",
              "      <td>83</td>\n",
              "      <td>NaN</td>\n",
              "      <td>1</td>\n",
              "      <td>68</td>\n",
              "      <td>153</td>\n",
              "      <td>53</td>\n",
              "      <td>6</td>\n",
              "      <td>43</td>\n",
              "      <td>NaN</td>\n",
              "    </tr>\n",
              "    <tr>\n",
              "      <th>2012-01-03</th>\n",
              "      <td>135</td>\n",
              "      <td>NaN</td>\n",
              "      <td>2</td>\n",
              "      <td>104</td>\n",
              "      <td>248</td>\n",
              "      <td>89</td>\n",
              "      <td>3</td>\n",
              "      <td>58</td>\n",
              "      <td>NaN</td>\n",
              "    </tr>\n",
              "    <tr>\n",
              "      <th>2012-01-04</th>\n",
              "      <td>144</td>\n",
              "      <td>NaN</td>\n",
              "      <td>1</td>\n",
              "      <td>116</td>\n",
              "      <td>318</td>\n",
              "      <td>111</td>\n",
              "      <td>8</td>\n",
              "      <td>61</td>\n",
              "      <td>NaN</td>\n",
              "    </tr>\n",
              "    <tr>\n",
              "      <th>2012-01-05</th>\n",
              "      <td>197</td>\n",
              "      <td>NaN</td>\n",
              "      <td>2</td>\n",
              "      <td>124</td>\n",
              "      <td>330</td>\n",
              "      <td>97</td>\n",
              "      <td>13</td>\n",
              "      <td>95</td>\n",
              "      <td>NaN</td>\n",
              "    </tr>\n",
              "    <tr>\n",
              "      <th>...</th>\n",
              "      <td>...</td>\n",
              "      <td>...</td>\n",
              "      <td>...</td>\n",
              "      <td>...</td>\n",
              "      <td>...</td>\n",
              "      <td>...</td>\n",
              "      <td>...</td>\n",
              "      <td>...</td>\n",
              "      <td>...</td>\n",
              "    </tr>\n",
              "    <tr>\n",
              "      <th>2012-11-01</th>\n",
              "      <td>2405</td>\n",
              "      <td>NaN</td>\n",
              "      <td>1208</td>\n",
              "      <td>1701</td>\n",
              "      <td>3082</td>\n",
              "      <td>2076</td>\n",
              "      <td>165</td>\n",
              "      <td>2461</td>\n",
              "      <td>NaN</td>\n",
              "    </tr>\n",
              "    <tr>\n",
              "      <th>2012-11-02</th>\n",
              "      <td>1582</td>\n",
              "      <td>NaN</td>\n",
              "      <td>737</td>\n",
              "      <td>1109</td>\n",
              "      <td>2277</td>\n",
              "      <td>1392</td>\n",
              "      <td>97</td>\n",
              "      <td>1888</td>\n",
              "      <td>NaN</td>\n",
              "    </tr>\n",
              "    <tr>\n",
              "      <th>2012-11-03</th>\n",
              "      <td>844</td>\n",
              "      <td>NaN</td>\n",
              "      <td>380</td>\n",
              "      <td>612</td>\n",
              "      <td>1137</td>\n",
              "      <td>713</td>\n",
              "      <td>105</td>\n",
              "      <td>1302</td>\n",
              "      <td>NaN</td>\n",
              "    </tr>\n",
              "    <tr>\n",
              "      <th>2012-11-04</th>\n",
              "      <td>966</td>\n",
              "      <td>NaN</td>\n",
              "      <td>446</td>\n",
              "      <td>710</td>\n",
              "      <td>1277</td>\n",
              "      <td>692</td>\n",
              "      <td>197</td>\n",
              "      <td>1374</td>\n",
              "      <td>NaN</td>\n",
              "    </tr>\n",
              "    <tr>\n",
              "      <th>2012-11-05</th>\n",
              "      <td>2247</td>\n",
              "      <td>NaN</td>\n",
              "      <td>1170</td>\n",
              "      <td>1705</td>\n",
              "      <td>3221</td>\n",
              "      <td>2143</td>\n",
              "      <td>179</td>\n",
              "      <td>2430</td>\n",
              "      <td>NaN</td>\n",
              "    </tr>\n",
              "  </tbody>\n",
              "</table>\n",
              "<p>310 rows × 9 columns</p>\n",
              "</div>\n",
              "      <button class=\"colab-df-convert\" onclick=\"convertToInteractive('df-3005dbe7-4527-48cc-baec-1bb4d8877fd4')\"\n",
              "              title=\"Convert this dataframe to an interactive table.\"\n",
              "              style=\"display:none;\">\n",
              "        \n",
              "  <svg xmlns=\"http://www.w3.org/2000/svg\" height=\"24px\"viewBox=\"0 0 24 24\"\n",
              "       width=\"24px\">\n",
              "    <path d=\"M0 0h24v24H0V0z\" fill=\"none\"/>\n",
              "    <path d=\"M18.56 5.44l.94 2.06.94-2.06 2.06-.94-2.06-.94-.94-2.06-.94 2.06-2.06.94zm-11 1L8.5 8.5l.94-2.06 2.06-.94-2.06-.94L8.5 2.5l-.94 2.06-2.06.94zm10 10l.94 2.06.94-2.06 2.06-.94-2.06-.94-.94-2.06-.94 2.06-2.06.94z\"/><path d=\"M17.41 7.96l-1.37-1.37c-.4-.4-.92-.59-1.43-.59-.52 0-1.04.2-1.43.59L10.3 9.45l-7.72 7.72c-.78.78-.78 2.05 0 2.83L4 21.41c.39.39.9.59 1.41.59.51 0 1.02-.2 1.41-.59l7.78-7.78 2.81-2.81c.8-.78.8-2.07 0-2.86zM5.41 20L4 18.59l7.72-7.72 1.47 1.35L5.41 20z\"/>\n",
              "  </svg>\n",
              "      </button>\n",
              "      \n",
              "  <style>\n",
              "    .colab-df-container {\n",
              "      display:flex;\n",
              "      flex-wrap:wrap;\n",
              "      gap: 12px;\n",
              "    }\n",
              "\n",
              "    .colab-df-convert {\n",
              "      background-color: #E8F0FE;\n",
              "      border: none;\n",
              "      border-radius: 50%;\n",
              "      cursor: pointer;\n",
              "      display: none;\n",
              "      fill: #1967D2;\n",
              "      height: 32px;\n",
              "      padding: 0 0 0 0;\n",
              "      width: 32px;\n",
              "    }\n",
              "\n",
              "    .colab-df-convert:hover {\n",
              "      background-color: #E2EBFA;\n",
              "      box-shadow: 0px 1px 2px rgba(60, 64, 67, 0.3), 0px 1px 3px 1px rgba(60, 64, 67, 0.15);\n",
              "      fill: #174EA6;\n",
              "    }\n",
              "\n",
              "    [theme=dark] .colab-df-convert {\n",
              "      background-color: #3B4455;\n",
              "      fill: #D2E3FC;\n",
              "    }\n",
              "\n",
              "    [theme=dark] .colab-df-convert:hover {\n",
              "      background-color: #434B5C;\n",
              "      box-shadow: 0px 1px 3px 1px rgba(0, 0, 0, 0.15);\n",
              "      filter: drop-shadow(0px 1px 2px rgba(0, 0, 0, 0.3));\n",
              "      fill: #FFFFFF;\n",
              "    }\n",
              "  </style>\n",
              "\n",
              "      <script>\n",
              "        const buttonEl =\n",
              "          document.querySelector('#df-3005dbe7-4527-48cc-baec-1bb4d8877fd4 button.colab-df-convert');\n",
              "        buttonEl.style.display =\n",
              "          google.colab.kernel.accessAllowed ? 'block' : 'none';\n",
              "\n",
              "        async function convertToInteractive(key) {\n",
              "          const element = document.querySelector('#df-3005dbe7-4527-48cc-baec-1bb4d8877fd4');\n",
              "          const dataTable =\n",
              "            await google.colab.kernel.invokeFunction('convertToInteractive',\n",
              "                                                     [key], {});\n",
              "          if (!dataTable) return;\n",
              "\n",
              "          const docLinkHtml = 'Like what you see? Visit the ' +\n",
              "            '<a target=\"_blank\" href=https://colab.research.google.com/notebooks/data_table.ipynb>data table notebook</a>'\n",
              "            + ' to learn more about interactive tables.';\n",
              "          element.innerHTML = '';\n",
              "          dataTable['output_type'] = 'display_data';\n",
              "          await google.colab.output.renderOutput(dataTable, element);\n",
              "          const docLink = document.createElement('div');\n",
              "          docLink.innerHTML = docLinkHtml;\n",
              "          element.appendChild(docLink);\n",
              "        }\n",
              "      </script>\n",
              "    </div>\n",
              "  </div>\n",
              "  "
            ]
          },
          "metadata": {},
          "execution_count": 11
        }
      ]
    },
    {
      "cell_type": "markdown",
      "source": [
        "# 1.2 Selecting a column"
      ],
      "metadata": {
        "id": "EMBg86UGDisd"
      }
    },
    {
      "cell_type": "code",
      "source": [
        "fixed_df['Berri 1']\n"
      ],
      "metadata": {
        "id": "NYzE090UDRBa",
        "outputId": "743eb651-d876-44b6-b7de-d4308a9fc7b8",
        "colab": {
          "base_uri": "https://localhost:8080/"
        }
      },
      "execution_count": 12,
      "outputs": [
        {
          "output_type": "execute_result",
          "data": {
            "text/plain": [
              "Date\n",
              "2012-01-01      35\n",
              "2012-01-02      83\n",
              "2012-01-03     135\n",
              "2012-01-04     144\n",
              "2012-01-05     197\n",
              "              ... \n",
              "2012-11-01    2405\n",
              "2012-11-02    1582\n",
              "2012-11-03     844\n",
              "2012-11-04     966\n",
              "2012-11-05    2247\n",
              "Name: Berri 1, Length: 310, dtype: int64"
            ]
          },
          "metadata": {},
          "execution_count": 12
        }
      ]
    },
    {
      "cell_type": "code",
      "source": [
        "type(fixed_df['Berri 1'])"
      ],
      "metadata": {
        "id": "rbarhFRdDoYm",
        "outputId": "df55be81-cc78-4750-8fba-2676a07315a3",
        "colab": {
          "base_uri": "https://localhost:8080/"
        }
      },
      "execution_count": 14,
      "outputs": [
        {
          "output_type": "execute_result",
          "data": {
            "text/plain": [
              "pandas.core.series.Series"
            ]
          },
          "metadata": {},
          "execution_count": 14
        }
      ]
    },
    {
      "cell_type": "code",
      "source": [
        "fixed_df.loc[:, 'Berri 1']"
      ],
      "metadata": {
        "id": "90fxCk4DDsPC",
        "outputId": "6369a8b5-6d59-44b2-e62e-f9f3ff617983",
        "colab": {
          "base_uri": "https://localhost:8080/"
        }
      },
      "execution_count": 16,
      "outputs": [
        {
          "output_type": "execute_result",
          "data": {
            "text/plain": [
              "Date\n",
              "2012-01-01      35\n",
              "2012-01-02      83\n",
              "2012-01-03     135\n",
              "2012-01-04     144\n",
              "2012-01-05     197\n",
              "              ... \n",
              "2012-11-01    2405\n",
              "2012-11-02    1582\n",
              "2012-11-03     844\n",
              "2012-11-04     966\n",
              "2012-11-05    2247\n",
              "Name: Berri 1, Length: 310, dtype: int64"
            ]
          },
          "metadata": {},
          "execution_count": 16
        }
      ]
    },
    {
      "cell_type": "code",
      "source": [
        "type(fixed_df.loc[:, 'Berri 1'])"
      ],
      "metadata": {
        "id": "61GJre38D0G0",
        "outputId": "ab6ce0a3-774f-4df4-932a-62af7a28e201",
        "colab": {
          "base_uri": "https://localhost:8080/"
        }
      },
      "execution_count": 17,
      "outputs": [
        {
          "output_type": "execute_result",
          "data": {
            "text/plain": [
              "pandas.core.series.Series"
            ]
          },
          "metadata": {},
          "execution_count": 17
        }
      ]
    },
    {
      "cell_type": "code",
      "source": [],
      "metadata": {
        "id": "Q-CTD7wXD-UB"
      },
      "execution_count": null,
      "outputs": []
    }
  ]
}